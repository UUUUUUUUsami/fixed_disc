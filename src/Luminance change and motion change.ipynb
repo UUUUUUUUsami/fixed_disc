{
 "cells": [
  {
   "cell_type": "code",
   "execution_count": 16,
   "id": "4993f2c0",
   "metadata": {},
   "outputs": [],
   "source": [
    "import random\n",
    "import os\n",
    "import ssl\n",
    "import cv2\n",
    "import numpy as np\n",
    "import imageio\n",
    "from IPython import display\n",
    "from urllib import request\n",
    "import re\n",
    "import tempfile\n",
    "import math\n",
    "from tqdm.notebook import tqdm\n",
    "import copy\n",
    "import shutil\n",
    "from mmflow.apis import init_model, inference_model\n",
    "from mmflow.datasets import visualize_flow, write_flow\n",
    "import mmcv\n",
    "import warnings\n",
    "\n",
    "warnings.simplefilter('ignore')\n",
    "\n",
    "\n",
    "\n",
    "class between_two_image:\n",
    "\n",
    "    def __init__(self,firstframe,secondframe,pix = 3,rate = 5,luminance = 15):\n",
    "        config_file = r\"pwcnet_ft_4x1_300k_sintel_final_384x768.py\"\n",
    "        checkpoint_file = r'pwcnet_ft_4x1_300k_sintel_final_384x768.pth'\n",
    "        \n",
    "        self.rate = rate\n",
    "        self.pix = pix\n",
    "        self.luminance = luminance\n",
    "        \n",
    "        self.model = init_model(config_file, checkpoint_file, device='cuda:0')\n",
    "\n",
    "        self.img1 = firstframe\n",
    "        self.img2 = secondframe\n",
    "\n",
    "        self.first_bool = False\n",
    "        self.second_bool = False\n",
    "        \n",
    "        self.flo_out()\n",
    "        self.flow_magnitude_out()\n",
    "        self.warp_second_frame_to_first()\n",
    "    \n",
    "    \n",
    "    def __call__(self):\n",
    "\n",
    "        self.with_movement_greater_than_3()\n",
    "        self.intensity_levels()\n",
    "        \n",
    "        if self.first_bool:\n",
    "            print(\"2フレーム間に写る物体の動きが大きいです\")\n",
    "        else:\n",
    "            print(\"2フレーム間の動きの大きさは特別大きくありません\")\n",
    "        if self.second_bool:\n",
    "            print(\"2フレーム間に写る物体の輝度の変化が特別大きくありません\")\n",
    "        else:\n",
    "            print(\"2フレーム間の物体の輝度が大きいです\")\n",
    "        return\n",
    "        \n",
    "    def flo_out(self):\n",
    "        self.result_12 = inference_model(self.model, self.img1, self.img2)\n",
    "\n",
    "        \n",
    "    def remove_values_closeto_0(self):\n",
    "\n",
    "        condition_12_1 = (result_12 < 0.01)\n",
    "        condition_12_2 = (result_12 > -0.01)\n",
    "        condition_12 = condition_12_1 & condition_12_2\n",
    "\n",
    "        self.result_12[condition_12] = 0\n",
    "        \n",
    "        \n",
    "    def flow_magnitude_out(self):\n",
    "        flow_map_12_channel_0 = self.result_12[:,:,0]\n",
    "        flow_map_12_channel_1 = self.result_12[:,:,1]\n",
    "        self.flow_magnitude_12, _ = cv2.cartToPolar(flow_map_12_channel_0, flow_map_12_channel_1)\n",
    "        self.convert_nan_to_0()\n",
    "        \n",
    "    def convert_nan_to_0(self):\n",
    "        nans = np.isnan(self.flow_magnitude_12)\n",
    "        if np.any(nans):\n",
    "            nans = np.where(nans)\n",
    "            self.flow_magnitude_12[nans] = 0.\n",
    "\n",
    "            \n",
    "    def warp_second_frame_to_first(self):\n",
    "        flow_map = copy.copy(self.result_12)\n",
    "        h,w = flow_map.shape[:2]\n",
    "        flow_map[:,:,0] += np.arange(w)#変換後の座標を指定\n",
    "        flow_map[:,:,1] += np.arange(h)[:,np.newaxis]\n",
    "        read_img2 = cv2.imread(self.img2)\n",
    "        self.warped_prevImg = cv2.remap(read_img2, flow_map, None, cv2.INTER_LINEAR)\n",
    "        \n",
    "        \n",
    "    def with_movement_greater_than_3(self):\n",
    "        first_bool = False\n",
    "        more_number = np.count_nonzero(self.flow_magnitude_12 > self.pix)#ハイパーパラメータ\n",
    "        pixel_number = self.result_12.shape[0] * self.result_12.shape[1]\n",
    "        if (more_number/pixel_number * 100) > self.rate:\n",
    "            self.first_bool = True\n",
    "\n",
    "    def intensity_levels(self):\n",
    "        prevImg = cv2.imread(self.img1)\n",
    "\n",
    "        img_diff = cv2.absdiff(self.warped_prevImg, prevImg)\n",
    "        sum_img_diff = np.sum(img_diff,axis = 2)\n",
    "        average_l1_distance = np.mean(sum_img_diff)\n",
    "        if average_l1_distance < self.luminance:#ハイパーパラメータ\n",
    "            self.second_bool = True"
   ]
  },
  {
   "cell_type": "code",
   "execution_count": 17,
   "id": "696ecb03",
   "metadata": {},
   "outputs": [
    {
     "name": "stdout",
     "output_type": "stream",
     "text": [
      "load checkpoint from local path: pwcnet_ft_4x1_300k_sintel_final_384x768.pth\n"
     ]
    }
   ],
   "source": [
    "bti1 = between_two_image(r\"frame_0001.png\",r\"frame_0002.png\",luminance=2)"
   ]
  },
  {
   "cell_type": "code",
   "execution_count": 18,
   "id": "7b24a49a",
   "metadata": {},
   "outputs": [
    {
     "name": "stdout",
     "output_type": "stream",
     "text": [
      "2フレーム間に写る物体の動きが大きいです\n",
      "2フレーム間の物体の輝度が大きいです\n"
     ]
    }
   ],
   "source": [
    "bti1()"
   ]
  },
  {
   "cell_type": "code",
   "execution_count": 4,
   "id": "7f8d4931",
   "metadata": {},
   "outputs": [
    {
     "name": "stdout",
     "output_type": "stream",
     "text": [
      "load checkpoint from local path: pwcnet_ft_4x1_300k_sintel_final_384x768.pth\n"
     ]
    }
   ],
   "source": [
    "bti2 = between_two_image(r\"frame_0001.png\",r\"frame_0002.png\")"
   ]
  },
  {
   "cell_type": "code",
   "execution_count": 5,
   "id": "312db321",
   "metadata": {},
   "outputs": [
    {
     "name": "stdout",
     "output_type": "stream",
     "text": [
      "2フレーム間に写る物体の動きが大きいです\n",
      "2フレーム間に写る物体の輝度の変化が大きいです\n"
     ]
    }
   ],
   "source": [
    "bti2()"
   ]
  }
 ],
 "metadata": {
  "kernelspec": {
   "display_name": "Python 3 (ipykernel)",
   "language": "python",
   "name": "python3"
  },
  "language_info": {
   "codemirror_mode": {
    "name": "ipython",
    "version": 3
   },
   "file_extension": ".py",
   "mimetype": "text/x-python",
   "name": "python",
   "nbconvert_exporter": "python",
   "pygments_lexer": "ipython3",
   "version": "3.7.15"
  }
 },
 "nbformat": 4,
 "nbformat_minor": 5
}
